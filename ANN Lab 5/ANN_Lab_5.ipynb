{
  "nbformat": 4,
  "nbformat_minor": 0,
  "metadata": {
    "colab": {
      "provenance": []
    },
    "kernelspec": {
      "name": "python3",
      "display_name": "Python 3"
    },
    "language_info": {
      "name": "python"
    }
  },
  "cells": [
    {
      "cell_type": "code",
      "execution_count": null,
      "metadata": {
        "id": "PQJ08V-_I6Hf"
      },
      "outputs": [],
      "source": [
        "import numpy as np\n",
        "                              # what is bam?\n",
        "                              # Working of bam.\n",
        "# define two pairs of vectors\n",
        "x1 = np.array([1, 1, 1, -1])\n",
        "y1 = np.array([1, -1])\n",
        "x2 = np.array([-1, -1, 1, 1])\n",
        "y2 = np.array([-1, 1])\n",
        "\n",
        "# compute weight matrix W\n",
        "W = np.outer(y1, x1) + np.outer(y2, x2)  #The np.outer() function is a NumPy function that computes the outer product of two arrays. \n",
        "                                        # It takes two 1-dimensional arrays as input and returns a 2-dimensional array as output.\n",
        "                                          '''arr1 = np.array([1, 2, 3])\n",
        "                                          arr2 = np.array([4, 5, 6])\n",
        "                                          [[ 4  5  6]\n",
        "                                           [ 8 10 12]\n",
        "                                           [12 15 18]]'''\n",
        "# define BAM function\n",
        "def bam(x):\n",
        "    y = np.dot(W, x)\n",
        "    y = np.where(y >= 0, 1, -1)\n",
        "    return y\n",
        "\n",
        "# test BAM with inputs\n",
        "x_test = np.array([1, -1, -1, -1])\n",
        "y_test = bam(x_test)\n",
        "\n",
        "# print output\n",
        "print(\"Input x: \", x_test)\n",
        "print(\"Output y: \", y_test)"
      ]
    }
  ]
}