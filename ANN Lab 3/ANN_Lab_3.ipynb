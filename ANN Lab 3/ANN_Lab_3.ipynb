{
  "nbformat": 4,
  "nbformat_minor": 0,
  "metadata": {
    "colab": {
      "provenance": []
    },
    "kernelspec": {
      "name": "python3",
      "display_name": "Python 3"
    },
    "language_info": {
      "name": "python"
    }
  },
  "cells": [
    {
      "cell_type": "code",
      "execution_count": 1,
      "metadata": {
        "colab": {
          "base_uri": "https://localhost:8080/"
        },
        "id": "KYxiCB5jC5pG",
        "outputId": "c2aa5e26-7708-4244-f1bc-c8a2bff33c4f"
      },
      "outputs": [
        {
          "output_type": "stream",
          "name": "stdout",
          "text": [
            "[0 0 0 0 0 0 0 0 0 0] is even\n",
            "[0 0 0 0 0 0 0 0 0 1] is odd\n",
            "[0 0 0 0 0 0 0 0 1 0] is even\n",
            "[0 0 0 0 0 0 0 0 1 1] is odd\n",
            "[0 0 0 0 0 0 0 1 0 0] is even\n",
            "[0 0 0 0 0 0 0 1 0 1] is odd\n",
            "[0 0 0 0 0 0 0 1 1 0] is even\n",
            "[0 0 0 0 0 0 0 1 1 1] is odd\n",
            "[0 0 0 0 0 0 1 0 0 0] is even\n",
            "[0 0 0 0 0 0 1 0 0 1] is odd\n"
          ]
        }
      ],
      "source": [
        "#import libraries\n",
        "import numpy as np\n",
        "\n",
        "# Define the perceptron class\n",
        "class Perceptron:\n",
        "    def __init__(self, input_size, lr=0.1): \n",
        "        self.W = np.zeros(input_size + 1)   #weight matrix is initially initialized to 0 -> [0,0,0,0,0,0,0,0,0,0,0]\n",
        "        self.lr = lr                        #learning rate (alpha)\n",
        "\n",
        "    def activation_fn(self, x):\n",
        "        return 1 if x >= 0 else 0  #binary step activation function\n",
        "    \n",
        "    def predict(self, v):\n",
        "        x = np.insert(v, 0, 1)\n",
        "        z = self.W.T.dot(x)                # dot product of weight matrix and instance of input array and .T is used for transpose\n",
        "        a = self.activation_fn(z)          \n",
        "        return a\n",
        "\n",
        "\n",
        "    def train(self, X, Y, epochs):         #epochs is the number iterations the neural network will go through during the learning phase\n",
        "        for _ in range(epochs):            # _ is used when Basically it means you are not interested in how many times the loop is run till now just that it should run some specific number of times overall\n",
        "            for i in range(Y.shape[0]):    \n",
        "                x = X[i]\n",
        "                y = self.predict(x)\n",
        "                e = Y[i] - y\n",
        "                self.W = self.W + self.lr * e * np.insert(x, 0, 1)  #perceptron training function\n",
        "\n",
        "\n",
        "# Define the input data and labels\n",
        "#training input array\n",
        "X = np.array([\n",
        "    [0,0,0,0,0,0,0,0,0,0], # 0\n",
        "    [0,0,0,0,0,0,0,0,0,1], # 1\n",
        "    [0,0,0,0,0,0,0,0,1,0], # 2\n",
        "    [0,0,0,0,0,0,0,0,1,1], # 3\n",
        "    [0,0,0,0,0,0,0,1,0,0], # 4\n",
        "    [0,0,0,0,0,0,0,1,0,1], # 5\n",
        "    [0,0,0,0,0,0,0,1,1,0], # 6\n",
        "    [0,0,0,0,0,0,0,1,1,1], # 7\n",
        "    [0,0,0,0,0,0,1,0,0,0], # 8\n",
        "    [0,0,0,0,0,0,1,0,0,1], # 9\n",
        "])\n",
        "\n",
        "Y = np.array([0, 1, 0, 1, 0, 1, 0, 1, 0, 1])  \n",
        "\n",
        "# Create the perceptron and train it\n",
        "perceptron = Perceptron(input_size=10) \n",
        "perceptron.train(X, Y, epochs=100) \n",
        "\n",
        "# Test the perceptron on some input data\n",
        "# Testing array\n",
        "test_X = np.array([\n",
        "    [0,0,0,0,0,0,0,0,0,0], # 0\n",
        "    [0,0,0,0,0,0,0,0,0,1], # 1\n",
        "    [0,0,0,0,0,0,0,0,1,0], # 2\n",
        "    [0,0,0,0,0,0,0,0,1,1], # 3\n",
        "    [0,0,0,0,0,0,0,1,0,0], # 4\n",
        "    [0,0,0,0,0,0,0,1,0,1], # 5\n",
        "    [0,0,0,0,0,0,0,1,1,0], # 6\n",
        "    [0,0,0,0,0,0,0,1,1,1], # 7\n",
        "    [0,0,0,0,0,0,1,0,0,0], # 8\n",
        "    [0,0,0,0,0,0,1,0,0,1], # 9\n",
        "])\n",
        "\n",
        "for i in range(test_X.shape[0]):\n",
        "  x = test_X[i]\n",
        "  y = perceptron.predict(x)\n",
        "  print(f'{x} is {\"even\" if y == 0 else \"odd\"}')\n"
      ]
    }
  ]
}