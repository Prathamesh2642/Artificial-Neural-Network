{
  "nbformat": 4,
  "nbformat_minor": 0,
  "metadata": {
    "colab": {
      "provenance": []
    },
    "kernelspec": {
      "name": "python3",
      "display_name": "Python 3"
    },
    "language_info": {
      "name": "python"
    }
  },
  "cells": [
    {
      "cell_type": "code",
      "execution_count": 1,
      "metadata": {
        "colab": {
          "base_uri": "https://localhost:8080/"
        },
        "id": "C7SmzR6rCJ1V",
        "outputId": "f0885977-f084-44b4-c495-52f51460f3f8"
      },
      "outputs": [
        {
          "output_type": "stream",
          "name": "stdout",
          "text": [
            "input table:\n",
            "[[0 0]\n",
            " [0 1]\n",
            " [1 0]\n",
            " [1 1]]\n",
            "Activation: 0\n",
            "Activation: 0\n",
            "Activation: 1\n",
            "Activation: 0\n"
          ]
        }
      ],
      "source": [
        "# importing libraries   \n",
        "import numpy as np\n",
        "                                        #-> what is mcculloch pitts model\n",
        "# function of checking thresold value \n",
        "def linear_threshold_gate(dot, T):  #ANDNOT FUNCION\n",
        "    '''Returns the binary threshold output'''\n",
        "    if dot >= T:\n",
        "        return 1\n",
        "    else:\n",
        "        return 0\n",
        "\n",
        "# matrix of inputs\n",
        "#input array\n",
        "input_table = np.array([\n",
        "    [0,0], # both no\n",
        "    [0,1], # one no, one yes\n",
        "    [1,0], # one yes, one no\n",
        "    [1,1]  # both yes\n",
        "])\n",
        "\n",
        "print(f'input table:\\n{input_table}')\n",
        "\n",
        "#predefined weights\n",
        "weights = np.array([1,-1])\n",
        "\n",
        "#dot product of input table and weight\n",
        "dot_products = input_table @ weights   #syntax for dot product\n",
        "\n",
        "T = 1   #Threshold value\n",
        "for i in range(0,4):\n",
        "    activation = linear_threshold_gate(dot_products[i], T)\n",
        "    print(f'Activation: {activation}')\n"
      ]
    }
  ]
}